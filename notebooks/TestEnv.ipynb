{
 "cells": [
  {
   "cell_type": "code",
   "execution_count": 1,
   "id": "a53f21cf",
   "metadata": {},
   "outputs": [],
   "source": [
    "class Greeter(val name: String) {\n",
    "    fun greet() {\n",
    "        println(\"Hello, $name!\")\n",
    "    }\n",
    "}"
   ]
  },
  {
   "cell_type": "code",
   "execution_count": 2,
   "id": "b26b6c68",
   "metadata": {},
   "outputs": [
    {
     "name": "stdout",
     "output_type": "stream",
     "text": [
      "Hello, Jupyter!\n"
     ]
    }
   ],
   "source": [
    "Greeter(\"Jupyter\").greet() // Run me"
   ]
  },
  {
   "cell_type": "code",
   "execution_count": null,
   "id": "6795781c",
   "metadata": {},
   "outputs": [],
   "source": []
  }
 ],
 "metadata": {
  "kernelspec": {
   "display_name": "Kotlin",
   "language": "kotlin",
   "name": "kotlin"
  },
  "language_info": {
   "codemirror_mode": "text/x-kotlin",
   "file_extension": ".kt",
   "mimetype": "text/x-kotlin",
   "name": "kotlin",
   "nbconvert_exporter": "",
   "pygments_lexer": "kotlin",
   "version": "1.5.20-dev-4184"
  }
 },
 "nbformat": 4,
 "nbformat_minor": 5
}
